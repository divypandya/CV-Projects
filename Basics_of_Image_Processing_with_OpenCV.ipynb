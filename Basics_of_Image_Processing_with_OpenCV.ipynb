{
  "nbformat": 4,
  "nbformat_minor": 0,
  "metadata": {
    "colab": {
      "name": "Basics of Image Processing with OpenCV.ipynb",
      "version": "0.3.2",
      "provenance": [],
      "include_colab_link": true
    },
    "kernelspec": {
      "name": "python3",
      "display_name": "Python 3"
    },
    "accelerator": "GPU"
  },
  "cells": [
    {
      "cell_type": "markdown",
      "metadata": {
        "id": "view-in-github",
        "colab_type": "text"
      },
      "source": [
        "<a href=\"https://colab.research.google.com/github/divypandya/OpenCV-with-Python-Course/blob/master/Basics_of_Image_Processing_with_OpenCV.ipynb\" target=\"_parent\"><img src=\"https://colab.research.google.com/assets/colab-badge.svg\" alt=\"Open In Colab\"/></a>"
      ]
    },
    {
      "cell_type": "code",
      "metadata": {
        "id": "8Rim5VLCnJbH",
        "colab_type": "code",
        "colab": {}
      },
      "source": [
        "# import the necessary packages\n",
        "import imutils\n",
        "import cv2\n",
        "from google.colab.patches import cv2_imshow"
      ],
      "execution_count": 0,
      "outputs": []
    },
    {
      "cell_type": "markdown",
      "metadata": {
        "id": "XvXwJ__8CTso",
        "colab_type": "text"
      },
      "source": [
        "\n",
        "\n",
        "---\n",
        "\n",
        "**Basic Image Operations**\n",
        "\n",
        "\n",
        "---\n",
        "\n"
      ]
    },
    {
      "cell_type": "code",
      "metadata": {
        "id": "3ZxgN6LdsGtr",
        "colab_type": "code",
        "colab": {}
      },
      "source": [
        "# Loading and Displaying image\n",
        "# load the input image and show its dimensions, keeping in mind that\n",
        "# images are represented as a multi-dimensional NumPy array with\n",
        "# shape no. rows (height) x no. columns (width) x no. channels (depth)\n",
        "image = cv2.imread('drive/My Drive/Colab Notebooks/CV Tutorials/images/jp.png')\n",
        "(h,w,d) = image.shape\n",
        "print('Height: {}, Width: {}, Depth: {}'.format(h,w,d))\n",
        "# display the image to our screen -- we will need to click the window\n",
        "# open by OpenCV and press a key on our keyboard to continue execution\n",
        "cv2_imshow(image)\n",
        "# access the RGB pixel located at x=50, y=100, keepind in mind that\n",
        "# OpenCV stores images in BGR order rather than RGB\n",
        "(B, G, R) = image[100,50]\n",
        "print('B: {}, G: {}, R: {}'.format(G,B,R))"
      ],
      "execution_count": 0,
      "outputs": []
    },
    {
      "cell_type": "code",
      "metadata": {
        "id": "dWGygxWk58s4",
        "colab_type": "code",
        "colab": {}
      },
      "source": [
        "# Array Slicing and Cropping\n",
        "# Region of Interest or ROI\n",
        "# extract a 100x100 pixel square ROI (Region of Interest) from the\n",
        "# input image starting at x=320,y=60 at ending at x=420,y=160\n",
        "ROI = image[60:160, 320:420]\n",
        "cv2_imshow(ROI)"
      ],
      "execution_count": 0,
      "outputs": []
    },
    {
      "cell_type": "code",
      "metadata": {
        "id": "OZtdfrSZ7O8P",
        "colab_type": "code",
        "colab": {}
      },
      "source": [
        "# Resizing Image\n",
        "# resize the image to 200x200px, ignoring aspect ratio\n",
        "resized = cv2.resize(image, (200, 200))\n",
        "cv2_imshow(resized)\n",
        "# fixed resizing and distort aspect ratio so let's resize the width\n",
        "# to be 300px but compute the new height based on the aspect ratio\n",
        "r = 300.0/w\n",
        "dim = (300, int(h*r))\n",
        "resize2 = cv2.resize(image, dim)\n",
        "cv2_imshow(resize2)\n",
        "# instead of manually calculating aspect ratio every time \n",
        "# we can just simply use imutils lib\n",
        "resized3 = imutils.resize(image, height = 300)\n",
        "cv2_imshow(resized3)"
      ],
      "execution_count": 0,
      "outputs": []
    },
    {
      "cell_type": "code",
      "metadata": {
        "id": "yTF9Zkpm9ipe",
        "colab_type": "code",
        "colab": {}
      },
      "source": [
        "# Rotating an Image\n",
        "# fixed resizing and distort aspect ratio so let's resize the width\n",
        "# to be 300px but compute the new height based on the aspect ratio\n",
        "center = (w//2, h//2)\n",
        "M = cv2.getRotationMatrix2D(center, -45, 1.0)\n",
        "rotated = cv2.warpAffine(image, M, (w, h))\n",
        "cv2_imshow(rotated)\n",
        "# or hail lord adrian rosebrock\n",
        "rotated2 = imutils.rotate(image, -45)\n",
        "cv2_imshow(rotated2)\n",
        "#\n",
        "# OpenCV doesn't \"care\" if our rotated image is clipped after rotation\n",
        "# so we can instead use another imutils convenience function to help\n",
        "# us out\n",
        "rotated3 = imutils.rotate_bound(image, 45)\n",
        "cv2_imshow(rotated3)"
      ],
      "execution_count": 0,
      "outputs": []
    },
    {
      "cell_type": "markdown",
      "metadata": {
        "id": "C4aLEXNvCce1",
        "colab_type": "text"
      },
      "source": [
        "\n",
        "\n",
        "---\n",
        "\n",
        "**Smoothing An Image**\n",
        "\n",
        "\n",
        "---\n",
        "\n"
      ]
    },
    {
      "cell_type": "code",
      "metadata": {
        "id": "TEeXw3HRAlG7",
        "colab_type": "code",
        "colab": {}
      },
      "source": [
        "# Using Gaussian Blur\n",
        "# apply a Gaussian blur with a 11x11 kernel to the image to smooth it,\n",
        "# useful when reducing high frequency noise\n",
        "blurred = cv2.GaussianBlur(image, (11, 11), 0)\n",
        "cv2_imshow(blurred)"
      ],
      "execution_count": 0,
      "outputs": []
    },
    {
      "cell_type": "markdown",
      "metadata": {
        "id": "aliNynoADjHz",
        "colab_type": "text"
      },
      "source": [
        "\n",
        "\n",
        "---\n",
        "\n",
        "**Drawing on an Image**\n",
        "\n",
        "\n",
        "---\n",
        "\n"
      ]
    },
    {
      "cell_type": "code",
      "metadata": {
        "id": "Ea08oZF8Dp_C",
        "colab_type": "code",
        "colab": {}
      },
      "source": [
        "# draw a 2px thick red rectangle surrounding the face\n",
        "output = image.copy()\n",
        "cv2.rectangle(output, (320,60), (420, 160), (0, 0, 255), 2)\n",
        "cv2_imshow(output)\n",
        "\n",
        "# draw a blue 20px (filled in) circle on the image centered at\n",
        "# x=300,y=150\n",
        "output = image.copy()\n",
        "cv2.circle(output, (300, 150), 20, (255, 0, 0), -1)\n",
        "# The line thickness. Since I supplied a negative value ( -1 ), \n",
        "# the circle is solid/filled in.\n",
        "cv2_imshow(output)\n",
        "\n",
        "# draw a 5px thick red line from x=60,y=20 to x=400,y=200\n",
        "output = image.copy()\n",
        "cv2.line(output, (60, 20), (400, 200), (0, 0, 255), 5)\n",
        "cv2_imshow(output)\n",
        "\n",
        "# draw green text on the image\n",
        "output = image.copy()\n",
        "cv2.putText(output, 'OpenCV + Jurassic Park', (10, 25), \n",
        "        cv2.FONT_HERSHEY_SIMPLEX, 0.7, (0, 255, 0), 2\n",
        "        )\n",
        "cv2_imshow(output)"
      ],
      "execution_count": 0,
      "outputs": []
    },
    {
      "cell_type": "markdown",
      "metadata": {
        "id": "0GO-QwdZNJna",
        "colab_type": "text"
      },
      "source": [
        "\n",
        "\n",
        "---\n",
        "\n",
        "\n",
        "---\n",
        "\n",
        "\n",
        "\n",
        "**Counting Objects**\n",
        "\n",
        "\n",
        "---\n",
        "\n",
        "\n",
        "---\n",
        "\n",
        "\n",
        "\n"
      ]
    },
    {
      "cell_type": "markdown",
      "metadata": {
        "id": "vIcm8HgmQIzf",
        "colab_type": "text"
      },
      "source": [
        "\n",
        "\n",
        "\n",
        "**Converting RGB image to GrayScale Image**\n",
        "\n",
        "\n",
        "---\n",
        "\n"
      ]
    },
    {
      "cell_type": "code",
      "metadata": {
        "id": "MbIl3G-2ELj2",
        "colab_type": "code",
        "colab": {
          "base_uri": "https://localhost:8080/",
          "height": 517
        },
        "outputId": "31396b11-a746-482b-bf1e-43ee4693a9c2"
      },
      "source": [
        "# loading and displaying Image\n",
        "args = {'input' : 'drive/My Drive/Colab Notebooks/CV Tutorials/images/tetris_blocks.png'}\n",
        "image = cv2.imread(args['input'])\n",
        "cv2_imshow(image)\n",
        "\n",
        "# convert the image to grayscale\n",
        "gray = cv2.cvtColor(image, cv2.COLOR_BGR2GRAY)\n",
        "cv2_imshow(gray)"
      ],
      "execution_count": 37,
      "outputs": [
        {
          "output_type": "display_data",
          "data": {
            "image/png": "[encoded data removed]",
            "text/plain": [
              "<PIL.Image.Image image mode=RGB size=482x250 at 0x7F269580BAC8>"
            ]
          },
          "metadata": {
            "tags": []
          }
        },
        {
          "output_type": "display_data",
          "data": {
            "image/png": "[encoded data removed]",
            "text/plain": [
              "<PIL.Image.Image image mode=L size=482x250 at 0x7F269580BB70>"
            ]
          },
          "metadata": {
            "tags": []
          }
        }
      ]
    },
    {
      "cell_type": "markdown",
      "metadata": {
        "id": "2DTggabBQUZ0",
        "colab_type": "text"
      },
      "source": [
        "**Edge Detection**\n",
        "\n",
        "\n",
        "---\n",
        "\n"
      ]
    },
    {
      "cell_type": "code",
      "metadata": {
        "id": "8h4YssQaOk8E",
        "colab_type": "code",
        "colab": {}
      },
      "source": [
        "# applying edge detection we can find the outlines of objects in\n",
        "# images\n",
        "edged = cv2.Canny(gray, 30, 150)\n",
        "cv2_imshow(edged)"
      ],
      "execution_count": 0,
      "outputs": []
    },
    {
      "cell_type": "markdown",
      "metadata": {
        "id": "wUZfmGyURQlF",
        "colab_type": "text"
      },
      "source": [
        "**Thresholding**\n",
        "\n",
        "\n",
        "---\n",
        "\n"
      ]
    },
    {
      "cell_type": "code",
      "metadata": {
        "id": "DqRBiYJGQ2p3",
        "colab_type": "code",
        "colab": {
          "base_uri": "https://localhost:8080/",
          "height": 267
        },
        "outputId": "6577287d-1917-4dea-c19c-9a185c5dea7e"
      },
      "source": [
        "# threshold the image by setting all pixel values less than 225\n",
        "# to 255 (white; foreground) and all pixel values >= 225 to 0\n",
        "# (black; background), thereby segmenting the image\n",
        "thresh = cv2.threshold(gray, 225, 225, cv2.THRESH_BINARY_INV)[1]\n",
        "cv2_imshow(thresh)"
      ],
      "execution_count": 46,
      "outputs": [
        {
          "output_type": "display_data",
          "data": {
            "image/png": "[encoded data removed]",
            "text/plain": [
              "<PIL.Image.Image image mode=L size=482x250 at 0x7F269580BA20>"
            ]
          },
          "metadata": {
            "tags": []
          }
        }
      ]
    },
    {
      "cell_type": "markdown",
      "metadata": {
        "id": "Q5zriUCUVdDj",
        "colab_type": "text"
      },
      "source": [
        "**Detecting and Drawing Contours**\n",
        "\n",
        "\n",
        "---\n",
        "\n"
      ]
    },
    {
      "cell_type": "code",
      "metadata": {
        "id": "7dc52sEaVhKG",
        "colab_type": "code",
        "colab": {}
      },
      "source": [
        "# find contours (i.e., outlines) of the foreground objects in the\n",
        "# thresholded image\n",
        "cnts = cv2.findContours(thresh.copy(), cv2.RETR_EXTERNAL,\n",
        "                       cv2.CHAIN_APPROX_SIMPLE\n",
        "                       )\n",
        "cnts = imutils.grab_contours(cnts)\n",
        "output = image.copy()\n",
        "\n",
        "# loop over the contours\n",
        "for c in cnts:\n",
        "    # draw each contour on the output image with a 3px thick purple\n",
        "\t# outline, then display the output contours one at a time\n",
        "    cv2.drawContours(output, [c], -1, (240, 0, 159), 3)\n",
        "    cv2_imshow(output)"
      ],
      "execution_count": 0,
      "outputs": []
    },
    {
      "cell_type": "code",
      "metadata": {
        "id": "ZvXXR3PCXNNO",
        "colab_type": "code",
        "colab": {
          "base_uri": "https://localhost:8080/",
          "height": 267
        },
        "outputId": "eb36c0dc-d463-43b4-b929-4d4d1c9ef0ee"
      },
      "source": [
        "# draw the total number of contours found in purple\n",
        "text = 'Total #Objects found: {}'.format(len(cnts))\n",
        "cv2.putText(output, text, (10,25), cv2.FONT_HERSHEY_SIMPLEX, 0.7, (240, 0, 159), 2)\n",
        "cv2_imshow(output)"
      ],
      "execution_count": 48,
      "outputs": [
        {
          "output_type": "display_data",
          "data": {
            "image/png": "[encoded data removed]",
            "text/plain": [
              "<PIL.Image.Image image mode=RGB size=482x250 at 0x7F2693F9AA58>"
            ]
          },
          "metadata": {
            "tags": []
          }
        }
      ]
    },
    {
      "cell_type": "markdown",
      "metadata": {
        "id": "uEMOLFFAYYIc",
        "colab_type": "text"
      },
      "source": [
        "**Erosion and Dilation**\n",
        "\n",
        "\n",
        "---\n",
        "\n"
      ]
    },
    {
      "cell_type": "code",
      "metadata": {
        "id": "XUZLv0KeYcXE",
        "colab_type": "code",
        "colab": {}
      },
      "source": [
        "# we apply erosions to reduce the size of foreground objects\n",
        "mask = thresh.copy()\n",
        "mask = cv2.erode(mask, None, iterations = 5)\n",
        "cv2_imshow(mask)\n",
        "\n",
        "# similarly, dilations can increase the size of the ground objects\n",
        "mask = thresh.copy()\n",
        "mask = cv2.dilate(mask, None, iterations = 5)\n",
        "cv2_imshow(mask)"
      ],
      "execution_count": 0,
      "outputs": []
    },
    {
      "cell_type": "markdown",
      "metadata": {
        "id": "z6zt0l-yaLgi",
        "colab_type": "text"
      },
      "source": [
        "**Masking and Bitwise Operations**\n",
        "\n",
        "\n",
        "---\n",
        "\n"
      ]
    },
    {
      "cell_type": "code",
      "metadata": {
        "id": "msbfi4yYaTHX",
        "colab_type": "code",
        "colab": {
          "base_uri": "https://localhost:8080/",
          "height": 267
        },
        "outputId": "565236c1-d755-4b91-911f-1817fb813ec5"
      },
      "source": [
        "# a typical operation we may want to apply is to take our mask and\n",
        "# apply a bitwise AND to our input image, keeping only the masked\n",
        "# regions\n",
        "mask = thresh.copy()\n",
        "output = cv2.bitwise_and(image, image, mask = mask)\n",
        "cv2_imshow(output)"
      ],
      "execution_count": 52,
      "outputs": [
        {
          "output_type": "display_data",
          "data": {
            "image/png": "[encoded data removed]",
            "text/plain": [
              "<PIL.Image.Image image mode=RGB size=482x250 at 0x7F2693F9A7F0>"
            ]
          },
          "metadata": {
            "tags": []
          }
        }
      ]
    }
  ]
}