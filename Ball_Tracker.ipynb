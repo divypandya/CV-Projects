{
  "nbformat": 4,
  "nbformat_minor": 0,
  "metadata": {
    "colab": {
      "name": "Ball Tracker.ipynb",
      "version": "0.3.2",
      "provenance": [],
      "collapsed_sections": [],
      "include_colab_link": true
    },
    "kernelspec": {
      "name": "python3",
      "display_name": "Python 3"
    },
    "accelerator": "GPU"
  },
  "cells": [
    {
      "cell_type": "markdown",
      "metadata": {
        "id": "view-in-github",
        "colab_type": "text"
      },
      "source": [
        "<a href=\"https://colab.research.google.com/github/divypandya/OpenCV-with-Python-Course/blob/master/Ball_Tracker.ipynb\" target=\"_parent\"><img src=\"https://colab.research.google.com/assets/colab-badge.svg\" alt=\"Open In Colab\"/></a>"
      ]
    },
    {
      "cell_type": "code",
      "metadata": {
        "id": "CXFazVquFHsH",
        "colab_type": "code",
        "colab": {}
      },
      "source": [
        "# Import necessary packages\n",
        "from collections import deque\n",
        "from imutils.video import VideoStream\n",
        "import numpy as np\n",
        "import cv2\n",
        "import imutils\n",
        "import time\n",
        "from google.colab.patches import cv2_imshow\n",
        "\n",
        "args = {'video' : 'drive/My Drive/Colab Notebooks/CV Tutorials/Dataset/ball_tracking_example.mp4',\n",
        "       'buffer' : 64\n",
        "       }\n"
      ],
      "execution_count": 0,
      "outputs": []
    },
    {
      "cell_type": "code",
      "metadata": {
        "id": "X-1z0nInHH_l",
        "colab_type": "code",
        "colab": {}
      },
      "source": [
        "# define the lower and upper boundaries of the \"green\"\n",
        "# ball in the HSV color space, then initialize the\n",
        "# list of tracked points\n",
        "greenLower = (28, 86, 6)\n",
        "greenUpper = (64, 255, 255)\n",
        "pts = deque(maxlen = args['buffer'])\n",
        "\n",
        "# if a video path was not supplied, grab the reference\n",
        "# to the webcam\n",
        "if not args.get('video', False):\n",
        "    vs = VideoStream(src = 0).start()\n",
        "\n",
        "# otherwise, grab a reference to the video file\n",
        "else:\n",
        "    vs = cv2.VideoCapture(args['video'])\n",
        "\n",
        "# allow the camera or video file to warm up\n",
        "time.sleep(2.0)\n",
        "writer = None\n",
        "Video_Stream_Out = 'drive/My Drive/Ball Detection.mp4'"
      ],
      "execution_count": 0,
      "outputs": []
    },
    {
      "cell_type": "code",
      "metadata": {
        "id": "qx525vunIkTH",
        "colab_type": "code",
        "outputId": "d2a13966-dfc1-4ac9-ba28-3a63f0fff3ab",
        "colab": {
          "base_uri": "https://localhost:8080/",
          "height": 35
        }
      },
      "source": [
        "# keep looping\n",
        "while True:\n",
        "    # grab the current frame\n",
        "    frame = vs.read()\n",
        "    \n",
        "    # handle the frame from VideoCapture or VideoStream\n",
        "    frame = frame[1] if args.get('video', False) else frame\n",
        "    \n",
        "    # if we are viewing a video and we did not grab a frame,\n",
        "\t# then we have reached the end of the video\n",
        "    if frame is None:\n",
        "        break\n",
        "    \n",
        "    # resize the frame, blur it, and convert it to the HSV\n",
        "\t# color space\n",
        "    frame = imutils.resize(frame, width = 600)\n",
        "    blurred = cv2.GaussianBlur(frame, (11, 11), 0)\n",
        "    hsv = cv2.cvtColor(blurred, cv2.COLOR_BGR2HSV)\n",
        "    \n",
        "    # construct a mask for the color \"green\", then perform\n",
        "\t# a series of dilations and erosions to remove any small\n",
        "\t# blobs left in the mask\n",
        "    mask = cv2.inRange(hsv, greenLower, greenUpper)\n",
        "    mask = cv2.erode(mask, None, iterations = 2)\n",
        "    mask = cv2.dilate(mask, None, iterations = 2)\n",
        "    \n",
        "    # find contours in the mask and initialize the current\n",
        "\t# (x, y) center of the ball\n",
        "    cnts = cv2.findContours(mask.copy(), cv2.RETR_EXTERNAL,\n",
        "                            cv2.CHAIN_APPROX_SIMPLE\n",
        "                           )\n",
        "    cnts = imutils.grab_contours(cnts)\n",
        "    center = None\n",
        "    \n",
        "    \n",
        "    # only proceed if at least one contour was found\n",
        "    if len(cnts) > 0:\n",
        "        # find the largest contour in the mask, then use\n",
        "\t\t# it to compute the minimum enclosing circle and\n",
        "\t\t# centroid\n",
        "        c = max(cnts, key = cv2.contourArea)\n",
        "        ((x, y), radius) = cv2.minEnclosingCircle(c)\n",
        "        M = cv2.moments(c)\n",
        "        center = (int(M['m10'] / M['m00']), int(M['m01'] / M['m00']))\n",
        "        \n",
        "        # only proceed if the radius meets a minimum size\n",
        "        if radius > 10:\n",
        "            # draw the circle and centroid on the frame,\n",
        "\t\t\t# then update the list of tracked points\n",
        "            cv2.circle(frame, (int(x), int(y)), int(radius), \n",
        "                      (0, 255, 255), 2\n",
        "                      )\n",
        "            cv2.circle(frame, center, 5, (0, 0, 255), -1)\n",
        "            \n",
        "    # update the points queue\n",
        "    pts.appendleft(center)\n",
        "    \n",
        "    # loop over the set of tracked points\n",
        "    for i in range(1, len(pts)):\n",
        "        # if either of the tracked points are None, ignore\n",
        "\t\t# them\n",
        "        if pts[i - 1] is None or pts[i] is None:\n",
        "            continue\n",
        "        \n",
        "        # otherwise, compute the thickness of the line and\n",
        "\t\t# draw the connecting lines\n",
        "        thickness = int(np.sqrt(args['buffer'] / float(i + 1)) * 2.5)\n",
        "        cv2.line(frame, pts[i - 1], pts[i], (0, 0, 255), thickness)\n",
        "        \n",
        "    # Check if the video writer is None\n",
        "    if writer is None:\n",
        "         # Initialize our video writer\n",
        "        fourcc = cv2.VideoWriter_fourcc(*\"XVID\")\n",
        "        writer = cv2.VideoWriter(Video_Stream_Out, fourcc, 30,\n",
        "        (frame.shape[1], frame.shape[0]), True)\n",
        "    \n",
        "    # Write the output frame to disk\n",
        "    writer.write(frame)\n",
        "\n",
        "\n",
        "# Release the file pointers\n",
        "print(\"[INFO] cleaning up...\")\n",
        "writer.release()\n",
        "cv2.destroyAllWindows()\n",
        "vs.release()"
      ],
      "execution_count": 5,
      "outputs": [
        {
          "output_type": "stream",
          "text": [
            "[INFO] cleaning up...\n"
          ],
          "name": "stdout"
        }
      ]
    }
  ]
}